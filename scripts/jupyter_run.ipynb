{
 "cells": [
  {
   "cell_type": "code",
   "execution_count": null,
   "id": "88b3d298-fe54-4eb2-90d9-2d1538da8f63",
   "metadata": {},
   "outputs": [],
   "source": [
    "!pwd"
   ]
  },
  {
   "cell_type": "code",
   "execution_count": null,
   "id": "cfd637a7-eb54-42f3-9197-7a382c9ce9b9",
   "metadata": {},
   "outputs": [],
   "source": [
    "import os \n",
    "os.chdir(\"../\")"
   ]
  },
  {
   "cell_type": "code",
   "execution_count": null,
   "id": "527836ae-4fb4-46c3-aa60-33e2f76d06a1",
   "metadata": {},
   "outputs": [],
   "source": [
    "!pwd"
   ]
  },
  {
   "cell_type": "code",
   "execution_count": null,
   "id": "525d69ee-b4a7-42cb-8793-2e40bfe5b8ea",
   "metadata": {},
   "outputs": [],
   "source": [
    "from configs.data_utils import *\n",
    "from configs.metrics import *\n",
    "from configs.cox_utils import *"
   ]
  },
  {
   "cell_type": "code",
   "execution_count": null,
   "id": "beb15413-f9c1-4a33-93cd-68609d41b310",
   "metadata": {},
   "outputs": [],
   "source": [
    "from configs.optuna_search import *"
   ]
  },
  {
   "cell_type": "code",
   "execution_count": null,
   "id": "11279b96-6f8a-4dd5-8c56-ec4318cb6668",
   "metadata": {},
   "outputs": [],
   "source": [
    "from scripts.empirical_search import *"
   ]
  },
  {
   "cell_type": "code",
   "execution_count": null,
   "id": "76c30dca-0170-4b8d-9bcf-adae1d44e146",
   "metadata": {},
   "outputs": [],
   "source": [
    "from scripts.empirical_surv_status_cox_pas_net import *"
   ]
  },
  {
   "cell_type": "code",
   "execution_count": null,
   "id": "e994cc6c-a39c-4c1a-81f0-8cde0d05920f",
   "metadata": {},
   "outputs": [],
   "source": []
  }
 ],
 "metadata": {
  "kernelspec": {
   "display_name": "Python 3 (ipykernel)",
   "language": "python",
   "name": "python3"
  },
  "language_info": {
   "codemirror_mode": {
    "name": "ipython",
    "version": 3
   },
   "file_extension": ".py",
   "mimetype": "text/x-python",
   "name": "python",
   "nbconvert_exporter": "python",
   "pygments_lexer": "ipython3",
   "version": "3.12.2"
  }
 },
 "nbformat": 4,
 "nbformat_minor": 5
}
